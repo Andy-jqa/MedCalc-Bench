{
 "cells": [
  {
   "cell_type": "code",
   "execution_count": 10,
   "metadata": {},
   "outputs": [],
   "source": [
    "import json\n",
    "import numpy as np\n",
    "\n",
    "category_accuracy = {}\n",
    "\n",
    "# Load data from the JSONL file\n",
    "with open(\"/Users/khandekarns/Documents/MedCalc-BenchNew/evaluation/outputs/OpenAI_gpt-3.5-turbo_direct_answer.jsonl\") as file:\n",
    "    for line in file:\n",
    "        data = json.loads(line)\n",
    "        \n",
    "        category = data[\"Category\"]\n",
    "\n",
    "        if category not in category_accuracy:\n",
    "            category_accuracy[category] = []\n",
    "\n",
    "        if data[\"Result\"] == \"Correct\":\n",
    "            category_accuracy[category].append(1)\n",
    "        else:\n",
    "            category_accuracy[category].append(0)\n",
    "\n",
    "# Compute average and standard deviation for each category\n",
    "category_stats = {}\n",
    "all_results = []\n",
    "\n",
    "for cat, results in category_accuracy.items():\n",
    "    results_array = np.array(results)\n",
    "    category_mean = np.mean(results_array)\n",
    "    category_std = np.std(results_array)\n",
    "    category_stats[cat] = {\n",
    "        \"average\": category_mean,\n",
    "        \"std\": category_std\n",
    "    }\n",
    "    all_results.extend(results)\n",
    "\n",
    "# Compute overall average and standard deviation\n",
    "all_results_array = np.array(all_results)\n",
    "overall_average = np.mean(all_results_array)\n",
    "overall_std = np.std(all_results_array)\n",
    "\n",
    "\n",
    "category_stats[\"overall\"] = {\n",
    "    \"average\": overall_average, \n",
    "    \"std\": overall_std\n",
    "}\n",
    "\n",
    "with open(\"overall_stats.json\", \"w\") as file:\n",
    "    json.dump(category_stats, file, indent=4)"
   ]
  },
  {
   "cell_type": "code",
   "execution_count": 4,
   "metadata": {},
   "outputs": [
    {
     "name": "stdout",
     "output_type": "stream",
     "text": [
      "\u001b[31mERROR: Could not find a version that satisfies the requirement ace_tools (from versions: none)\u001b[0m\u001b[31m\n",
      "\u001b[0m\u001b[31mERROR: No matching distribution found for ace_tools\u001b[0m\u001b[31m\n",
      "\u001b[0m"
     ]
    }
   ],
   "source": []
  },
  {
   "cell_type": "code",
   "execution_count": null,
   "metadata": {},
   "outputs": [],
   "source": []
  }
 ],
 "metadata": {
  "kernelspec": {
   "display_name": "medcalc-bench",
   "language": "python",
   "name": "python3"
  },
  "language_info": {
   "codemirror_mode": {
    "name": "ipython",
    "version": 3
   },
   "file_extension": ".py",
   "mimetype": "text/x-python",
   "name": "python",
   "nbconvert_exporter": "python",
   "pygments_lexer": "ipython3",
   "version": "3.12.3"
  }
 },
 "nbformat": 4,
 "nbformat_minor": 2
}
